{
 "cells": [
  {
   "cell_type": "code",
   "execution_count": 2,
   "id": "32e44238",
   "metadata": {
    "execution": {
     "iopub.execute_input": "2023-05-15T07:02:42.907546Z",
     "iopub.status.busy": "2023-05-15T07:02:42.907139Z",
     "iopub.status.idle": "2023-05-15T07:02:55.187398Z",
     "shell.execute_reply": "2023-05-15T07:02:55.186211Z"
    },
    "papermill": {
     "duration": 12.290081,
     "end_time": "2023-05-15T07:02:55.190104",
     "exception": false,
     "start_time": "2023-05-15T07:02:42.900023",
     "status": "completed"
    },
    "tags": []
   },
   "outputs": [
    {
     "name": "stdout",
     "output_type": "stream",
     "text": [
      "Defaulting to user installation because normal site-packages is not writeableNote: you may need to restart the kernel to use updated packages.\n",
      "\n",
      "Requirement already satisfied: transformers in c:\\users\\akil\\appdata\\roaming\\python\\python39\\site-packages (4.29.2)\n",
      "Requirement already satisfied: filelock in c:\\users\\akil\\appdata\\roaming\\python\\python39\\site-packages (from transformers) (3.11.0)\n",
      "Requirement already satisfied: huggingface-hub<1.0,>=0.14.1 in c:\\users\\akil\\appdata\\roaming\\python\\python39\\site-packages (from transformers) (0.14.1)\n",
      "Requirement already satisfied: numpy>=1.17 in c:\\users\\akil\\appdata\\roaming\\python\\python39\\site-packages (from transformers) (1.23.5)\n",
      "Requirement already satisfied: packaging>=20.0 in c:\\users\\akil\\appdata\\roaming\\python\\python39\\site-packages (from transformers) (21.3)\n",
      "Requirement already satisfied: pyyaml>=5.1 in c:\\users\\akil\\appdata\\roaming\\python\\python39\\site-packages (from transformers) (6.0)\n",
      "Requirement already satisfied: regex!=2019.12.17 in c:\\users\\akil\\appdata\\roaming\\python\\python39\\site-packages (from transformers) (2023.5.5)\n",
      "Requirement already satisfied: requests in c:\\users\\akil\\appdata\\roaming\\python\\python39\\site-packages (from transformers) (2.28.1)\n",
      "Requirement already satisfied: tokenizers!=0.11.3,<0.14,>=0.11.1 in c:\\users\\akil\\appdata\\roaming\\python\\python39\\site-packages (from transformers) (0.13.3)\n",
      "Requirement already satisfied: tqdm>=4.27 in c:\\users\\akil\\appdata\\roaming\\python\\python39\\site-packages (from transformers) (4.65.0)\n",
      "Requirement already satisfied: fsspec in c:\\users\\akil\\appdata\\roaming\\python\\python39\\site-packages (from huggingface-hub<1.0,>=0.14.1->transformers) (2023.5.0)\n",
      "Requirement already satisfied: typing-extensions>=3.7.4.3 in c:\\users\\akil\\appdata\\roaming\\python\\python39\\site-packages (from huggingface-hub<1.0,>=0.14.1->transformers) (4.5.0)\n",
      "Requirement already satisfied: pyparsing!=3.0.5,>=2.0.2 in c:\\users\\akil\\appdata\\roaming\\python\\python39\\site-packages (from packaging>=20.0->transformers) (3.0.9)\n",
      "Requirement already satisfied: colorama in c:\\users\\akil\\appdata\\roaming\\python\\python39\\site-packages (from tqdm>=4.27->transformers) (0.4.4)\n",
      "Requirement already satisfied: charset-normalizer<3,>=2 in c:\\users\\akil\\appdata\\roaming\\python\\python39\\site-packages (from requests->transformers) (2.1.1)\n",
      "Requirement already satisfied: idna<4,>=2.5 in c:\\users\\akil\\appdata\\roaming\\python\\python39\\site-packages (from requests->transformers) (3.4)\n",
      "Requirement already satisfied: urllib3<1.27,>=1.21.1 in c:\\users\\akil\\appdata\\roaming\\python\\python39\\site-packages (from requests->transformers) (1.26.13)\n",
      "Requirement already satisfied: certifi>=2017.4.17 in c:\\users\\akil\\appdata\\roaming\\python\\python39\\site-packages (from requests->transformers) (2022.12.7)\n"
     ]
    }
   ],
   "source": [
    "%pip install transformers"
   ]
  },
  {
   "cell_type": "code",
   "execution_count": 3,
   "id": "044ccc62",
   "metadata": {
    "execution": {
     "iopub.execute_input": "2023-05-15T07:02:55.203247Z",
     "iopub.status.busy": "2023-05-15T07:02:55.202075Z",
     "iopub.status.idle": "2023-05-15T07:02:56.533401Z",
     "shell.execute_reply": "2023-05-15T07:02:56.532132Z"
    },
    "papermill": {
     "duration": 1.34013,
     "end_time": "2023-05-15T07:02:56.535669",
     "exception": false,
     "start_time": "2023-05-15T07:02:55.195539",
     "status": "completed"
    },
    "tags": []
   },
   "outputs": [
    {
     "name": "stdout",
     "output_type": "stream",
     "text": [
      "Defaulting to user installation because normal site-packages is not writeable\n",
      "Collecting transformers\n",
      "  Downloading transformers-4.29.2-py3-none-any.whl (7.1 MB)\n",
      "                                              0.0/7.1 MB ? eta -:--:--\n",
      "                                              0.0/7.1 MB 1.3 MB/s eta 0:00:06\n",
      "                                              0.1/7.1 MB 544.7 kB/s eta 0:00:13\n",
      "                                              0.1/7.1 MB 871.5 kB/s eta 0:00:09\n",
      "                                              0.2/7.1 MB 821.4 kB/s eta 0:00:09\n",
      "     -                                        0.2/7.1 MB 1.1 MB/s eta 0:00:07\n",
      "     -                                        0.3/7.1 MB 1.2 MB/s eta 0:00:06\n",
      "     --                                       0.4/7.1 MB 1.4 MB/s eta 0:00:05\n",
      "     --                                       0.4/7.1 MB 1.4 MB/s eta 0:00:05\n",
      "     ---                                      0.7/7.1 MB 1.6 MB/s eta 0:00:05\n",
      "     ----                                     0.8/7.1 MB 1.6 MB/s eta 0:00:04\n",
      "     ----                                     0.9/7.1 MB 1.7 MB/s eta 0:00:04\n",
      "     -----                                    1.0/7.1 MB 1.7 MB/s eta 0:00:04\n",
      "     ------                                   1.1/7.1 MB 1.8 MB/s eta 0:00:04\n",
      "     ------                                   1.2/7.1 MB 1.8 MB/s eta 0:00:04\n",
      "     -------                                  1.3/7.1 MB 1.9 MB/s eta 0:00:04\n",
      "     --------                                 1.5/7.1 MB 1.9 MB/s eta 0:00:03\n",
      "     --------                                 1.6/7.1 MB 2.0 MB/s eta 0:00:03\n",
      "     ---------                                1.6/7.1 MB 1.9 MB/s eta 0:00:03\n",
      "     ---------                                1.7/7.1 MB 1.9 MB/s eta 0:00:03\n",
      "     ----------                               1.8/7.1 MB 1.9 MB/s eta 0:00:03\n",
      "     ----------                               1.9/7.1 MB 1.9 MB/s eta 0:00:03\n",
      "     ----------                               1.9/7.1 MB 1.9 MB/s eta 0:00:03\n",
      "     -----------                              2.0/7.1 MB 1.9 MB/s eta 0:00:03\n",
      "     -----------                              2.0/7.1 MB 1.8 MB/s eta 0:00:03\n",
      "     -----------                              2.1/7.1 MB 1.7 MB/s eta 0:00:03\n",
      "     -----------                              2.1/7.1 MB 1.7 MB/s eta 0:00:03\n",
      "     -----------                              2.1/7.1 MB 1.7 MB/s eta 0:00:03\n",
      "     -----------                              2.1/7.1 MB 1.7 MB/s eta 0:00:03\n",
      "     -----------                              2.1/7.1 MB 1.7 MB/s eta 0:00:03\n",
      "     -----------                              2.1/7.1 MB 1.7 MB/s eta 0:00:03\n",
      "     -----------                              2.1/7.1 MB 1.7 MB/s eta 0:00:03\n",
      "     -----------                              2.1/7.1 MB 1.7 MB/s eta 0:00:03\n",
      "     -----------                              2.1/7.1 MB 1.7 MB/s eta 0:00:03\n",
      "     -----------                              2.1/7.1 MB 1.7 MB/s eta 0:00:03\n",
      "     -----------                              2.1/7.1 MB 1.7 MB/s eta 0:00:03\n",
      "     -----------                              2.1/7.1 MB 1.7 MB/s eta 0:00:03\n",
      "     -----------                              2.1/7.1 MB 1.7 MB/s eta 0:00:03\n",
      "     -----------                              2.1/7.1 MB 1.7 MB/s eta 0:00:03\n",
      "     -------------                            2.3/7.1 MB 1.3 MB/s eta 0:00:04\n",
      "     -------------                            2.3/7.1 MB 1.3 MB/s eta 0:00:04\n",
      "     -------------                            2.3/7.1 MB 1.3 MB/s eta 0:00:04\n",
      "     -------------                            2.3/7.1 MB 1.3 MB/s eta 0:00:04\n",
      "     --------------                           2.5/7.1 MB 1.3 MB/s eta 0:00:04\n",
      "     --------------                           2.5/7.1 MB 1.3 MB/s eta 0:00:04\n",
      "     ---------------                          2.7/7.1 MB 1.3 MB/s eta 0:00:04\n",
      "     ---------------                          2.7/7.1 MB 1.2 MB/s eta 0:00:04\n",
      "     ---------------                          2.7/7.1 MB 1.2 MB/s eta 0:00:04\n",
      "     ---------------                          2.8/7.1 MB 1.3 MB/s eta 0:00:04\n",
      "     ----------------                         2.9/7.1 MB 1.3 MB/s eta 0:00:04\n",
      "     ----------------                         3.0/7.1 MB 1.3 MB/s eta 0:00:04\n",
      "     -----------------                        3.0/7.1 MB 1.3 MB/s eta 0:00:04\n",
      "     -----------------                        3.1/7.1 MB 1.3 MB/s eta 0:00:04\n",
      "     ------------------                       3.2/7.1 MB 1.3 MB/s eta 0:00:04\n",
      "     ------------------                       3.3/7.1 MB 1.3 MB/s eta 0:00:03\n",
      "     -------------------                      3.4/7.1 MB 1.3 MB/s eta 0:00:03\n",
      "     -------------------                      3.5/7.1 MB 1.3 MB/s eta 0:00:03\n",
      "     --------------------                     3.6/7.1 MB 1.3 MB/s eta 0:00:03\n",
      "     --------------------                     3.6/7.1 MB 1.3 MB/s eta 0:00:03\n",
      "     --------------------                     3.7/7.1 MB 1.3 MB/s eta 0:00:03\n",
      "     ---------------------                    3.8/7.1 MB 1.3 MB/s eta 0:00:03\n",
      "     ---------------------                    3.9/7.1 MB 1.4 MB/s eta 0:00:03\n",
      "     ----------------------                   4.0/7.1 MB 1.4 MB/s eta 0:00:03\n",
      "     ----------------------                   4.1/7.1 MB 1.4 MB/s eta 0:00:03\n",
      "     -----------------------                  4.2/7.1 MB 1.4 MB/s eta 0:00:03\n",
      "     ------------------------                 4.3/7.1 MB 1.4 MB/s eta 0:00:02\n",
      "     -------------------------                4.5/7.1 MB 1.4 MB/s eta 0:00:02\n",
      "     -------------------------                4.6/7.1 MB 1.5 MB/s eta 0:00:02\n",
      "     -------------------------                4.6/7.1 MB 1.4 MB/s eta 0:00:02\n",
      "     --------------------------               4.6/7.1 MB 1.4 MB/s eta 0:00:02\n",
      "     --------------------------               4.7/7.1 MB 1.4 MB/s eta 0:00:02\n",
      "     --------------------------               4.8/7.1 MB 1.4 MB/s eta 0:00:02\n",
      "     ---------------------------              4.8/7.1 MB 1.4 MB/s eta 0:00:02\n",
      "     ---------------------------              4.9/7.1 MB 1.4 MB/s eta 0:00:02\n",
      "     ----------------------------             5.0/7.1 MB 1.4 MB/s eta 0:00:02\n",
      "     ----------------------------             5.0/7.1 MB 1.4 MB/s eta 0:00:02\n",
      "     ----------------------------             5.1/7.1 MB 1.4 MB/s eta 0:00:02\n",
      "     ----------------------------             5.1/7.1 MB 1.4 MB/s eta 0:00:02\n",
      "     -----------------------------            5.2/7.1 MB 1.4 MB/s eta 0:00:02\n",
      "     -----------------------------            5.2/7.1 MB 1.4 MB/s eta 0:00:02\n",
      "     -----------------------------            5.3/7.1 MB 1.4 MB/s eta 0:00:02\n",
      "     ------------------------------           5.3/7.1 MB 1.4 MB/s eta 0:00:02\n",
      "     ------------------------------           5.3/7.1 MB 1.4 MB/s eta 0:00:02\n",
      "     ------------------------------           5.4/7.1 MB 1.4 MB/s eta 0:00:02\n",
      "     ------------------------------           5.4/7.1 MB 1.4 MB/s eta 0:00:02\n",
      "     ------------------------------           5.4/7.1 MB 1.4 MB/s eta 0:00:02\n",
      "     ------------------------------           5.4/7.1 MB 1.4 MB/s eta 0:00:02\n",
      "     ------------------------------           5.4/7.1 MB 1.4 MB/s eta 0:00:02\n",
      "     ------------------------------           5.4/7.1 MB 1.4 MB/s eta 0:00:02\n",
      "     ------------------------------           5.4/7.1 MB 1.4 MB/s eta 0:00:02\n",
      "     ------------------------------           5.4/7.1 MB 1.4 MB/s eta 0:00:02\n",
      "     ------------------------------           5.4/7.1 MB 1.4 MB/s eta 0:00:02\n",
      "     ------------------------------           5.4/7.1 MB 1.4 MB/s eta 0:00:02\n",
      "     ------------------------------           5.4/7.1 MB 1.4 MB/s eta 0:00:02\n",
      "     ------------------------------           5.4/7.1 MB 1.4 MB/s eta 0:00:02\n",
      "     ------------------------------           5.4/7.1 MB 1.4 MB/s eta 0:00:02\n",
      "     ------------------------------           5.4/7.1 MB 1.4 MB/s eta 0:00:02\n",
      "     -------------------------------          5.6/7.1 MB 1.2 MB/s eta 0:00:02\n",
      "     -------------------------------          5.6/7.1 MB 1.2 MB/s eta 0:00:02\n",
      "     -------------------------------          5.6/7.1 MB 1.2 MB/s eta 0:00:02\n",
      "     -------------------------------          5.6/7.1 MB 1.2 MB/s eta 0:00:02\n",
      "     --------------------------------         5.8/7.1 MB 1.2 MB/s eta 0:00:02\n",
      "     --------------------------------         5.8/7.1 MB 1.2 MB/s eta 0:00:02\n",
      "     ---------------------------------        5.9/7.1 MB 1.2 MB/s eta 0:00:02\n",
      "     ---------------------------------        5.9/7.1 MB 1.2 MB/s eta 0:00:02\n",
      "     ---------------------------------        5.9/7.1 MB 1.2 MB/s eta 0:00:01\n",
      "     ---------------------------------        6.0/7.1 MB 1.2 MB/s eta 0:00:01\n",
      "     ----------------------------------       6.1/7.1 MB 1.2 MB/s eta 0:00:01\n",
      "     ----------------------------------       6.1/7.1 MB 1.2 MB/s eta 0:00:01\n",
      "     -----------------------------------      6.2/7.1 MB 1.2 MB/s eta 0:00:01\n",
      "     -----------------------------------      6.3/7.1 MB 1.2 MB/s eta 0:00:01\n",
      "     ------------------------------------     6.4/7.1 MB 1.2 MB/s eta 0:00:01\n",
      "     ------------------------------------     6.5/7.1 MB 1.2 MB/s eta 0:00:01\n",
      "     ------------------------------------     6.5/7.1 MB 1.2 MB/s eta 0:00:01\n",
      "     -------------------------------------    6.6/7.1 MB 1.2 MB/s eta 0:00:01\n",
      "     -------------------------------------    6.7/7.1 MB 1.2 MB/s eta 0:00:01\n",
      "     --------------------------------------   6.8/7.1 MB 1.3 MB/s eta 0:00:01\n",
      "     --------------------------------------   6.8/7.1 MB 1.2 MB/s eta 0:00:01\n",
      "     --------------------------------------   6.9/7.1 MB 1.2 MB/s eta 0:00:01\n",
      "     --------------------------------------   6.9/7.1 MB 1.2 MB/s eta 0:00:01\n",
      "     ---------------------------------------  7.0/7.1 MB 1.2 MB/s eta 0:00:01\n",
      "     ---------------------------------------  7.0/7.1 MB 1.2 MB/s eta 0:00:01\n",
      "     ---------------------------------------  7.1/7.1 MB 1.2 MB/s eta 0:00:01\n",
      "     ---------------------------------------  7.1/7.1 MB 1.2 MB/s eta 0:00:01\n",
      "     ---------------------------------------- 7.1/7.1 MB 1.2 MB/s eta 0:00:00\n",
      "Requirement already satisfied: filelock in c:\\users\\akil\\appdata\\roaming\\python\\python39\\site-packages (from transformers) (3.11.0)\n",
      "Collecting huggingface-hub<1.0,>=0.14.1 (from transformers)\n",
      "  Downloading huggingface_hub-0.14.1-py3-none-any.whl (224 kB)\n",
      "                                              0.0/224.5 kB ? eta -:--:--\n",
      "                                              0.0/224.5 kB ? eta -:--:--\n",
      "     -                                        10.2/224.5 kB ? eta -:--:--\n",
      "     -----                                 30.7/224.5 kB 435.7 kB/s eta 0:00:01\n",
      "     ------                                41.0/224.5 kB 393.8 kB/s eta 0:00:01\n",
      "     -----------                           71.7/224.5 kB 491.5 kB/s eta 0:00:01\n",
      "     ----------------------               143.4/224.5 kB 711.9 kB/s eta 0:00:01\n",
      "     ------------------------             153.6/224.5 kB 706.2 kB/s eta 0:00:01\n",
      "     ----------------------------------   215.0/224.5 kB 728.8 kB/s eta 0:00:01\n",
      "     ------------------------------------ 224.5/224.5 kB 653.2 kB/s eta 0:00:00\n",
      "Requirement already satisfied: numpy>=1.17 in c:\\users\\akil\\appdata\\roaming\\python\\python39\\site-packages (from transformers) (1.23.5)\n",
      "Requirement already satisfied: packaging>=20.0 in c:\\users\\akil\\appdata\\roaming\\python\\python39\\site-packages (from transformers) (21.3)\n",
      "Collecting pyyaml>=5.1 (from transformers)\n",
      "  Downloading PyYAML-6.0-cp39-cp39-win_amd64.whl (151 kB)\n",
      "                                              0.0/151.6 kB ? eta -:--:--\n",
      "     --                                       10.2/151.6 kB ? eta -:--:--\n",
      "     ---------                             41.0/151.6 kB 393.8 kB/s eta 0:00:01\n",
      "     ------------------------             102.4/151.6 kB 653.6 kB/s eta 0:00:01\n",
      "     ----------------------------------   143.4/151.6 kB 774.0 kB/s eta 0:00:01\n",
      "     ------------------------------------ 151.6/151.6 kB 696.6 kB/s eta 0:00:00\n",
      "Collecting regex!=2019.12.17 (from transformers)\n",
      "  Downloading regex-2023.5.5-cp39-cp39-win_amd64.whl (267 kB)\n",
      "                                              0.0/268.0 kB ? eta -:--:--\n",
      "     ----                                    30.7/268.0 kB 1.3 MB/s eta 0:00:01\n",
      "     --------------                         102.4/268.0 kB 1.5 MB/s eta 0:00:01\n",
      "     ---------------------                  153.6/268.0 kB 1.3 MB/s eta 0:00:01\n",
      "     -----------------------------          204.8/268.0 kB 1.4 MB/s eta 0:00:01\n",
      "     -------------------------------------  266.2/268.0 kB 1.5 MB/s eta 0:00:01\n",
      "     -------------------------------------- 268.0/268.0 kB 1.3 MB/s eta 0:00:00\n",
      "Requirement already satisfied: requests in c:\\users\\akil\\appdata\\roaming\\python\\python39\\site-packages (from transformers) (2.28.1)\n",
      "Collecting tokenizers!=0.11.3,<0.14,>=0.11.1 (from transformers)\n",
      "  Downloading tokenizers-0.13.3-cp39-cp39-win_amd64.whl (3.5 MB)\n",
      "                                              0.0/3.5 MB ? eta -:--:--\n",
      "                                              0.0/3.5 MB 2.0 MB/s eta 0:00:02\n",
      "     -                                        0.1/3.5 MB 1.4 MB/s eta 0:00:03\n",
      "     --                                       0.2/3.5 MB 1.7 MB/s eta 0:00:02\n",
      "     ---                                      0.3/3.5 MB 1.6 MB/s eta 0:00:02\n",
      "     ----                                     0.4/3.5 MB 1.6 MB/s eta 0:00:02\n",
      "     -----                                    0.5/3.5 MB 1.6 MB/s eta 0:00:02\n",
      "     ------                                   0.5/3.5 MB 1.6 MB/s eta 0:00:02\n",
      "     ------                                   0.5/3.5 MB 1.6 MB/s eta 0:00:02\n",
      "     ------                                   0.6/3.5 MB 1.3 MB/s eta 0:00:03\n",
      "     ------                                   0.6/3.5 MB 1.3 MB/s eta 0:00:03\n",
      "     -------                                  0.7/3.5 MB 1.3 MB/s eta 0:00:03\n",
      "     --------                                 0.8/3.5 MB 1.3 MB/s eta 0:00:03\n",
      "     --------                                 0.8/3.5 MB 1.3 MB/s eta 0:00:03\n",
      "     ----------                               0.9/3.5 MB 1.4 MB/s eta 0:00:02\n",
      "     -----------                              1.0/3.5 MB 1.4 MB/s eta 0:00:02\n",
      "     ------------                             1.0/3.5 MB 1.4 MB/s eta 0:00:02\n",
      "     ------------                             1.1/3.5 MB 1.4 MB/s eta 0:00:02\n",
      "     -------------                            1.2/3.5 MB 1.4 MB/s eta 0:00:02\n",
      "     --------------                           1.3/3.5 MB 1.4 MB/s eta 0:00:02\n",
      "     --------------                           1.3/3.5 MB 1.4 MB/s eta 0:00:02\n",
      "     ---------------                          1.4/3.5 MB 1.4 MB/s eta 0:00:02\n",
      "     ---------------                          1.4/3.5 MB 1.4 MB/s eta 0:00:02\n",
      "     ----------------                         1.4/3.5 MB 1.3 MB/s eta 0:00:02\n",
      "     ----------------                         1.5/3.5 MB 1.3 MB/s eta 0:00:02\n",
      "     -----------------                        1.5/3.5 MB 1.3 MB/s eta 0:00:02\n",
      "     ------------------                       1.6/3.5 MB 1.3 MB/s eta 0:00:02\n",
      "     ------------------                       1.6/3.5 MB 1.3 MB/s eta 0:00:02\n",
      "     -------------------                      1.7/3.5 MB 1.3 MB/s eta 0:00:02\n",
      "     --------------------                     1.8/3.5 MB 1.3 MB/s eta 0:00:02\n",
      "     ---------------------                    1.9/3.5 MB 1.3 MB/s eta 0:00:02\n",
      "     ----------------------                   2.0/3.5 MB 1.3 MB/s eta 0:00:02\n",
      "     -----------------------                  2.0/3.5 MB 1.4 MB/s eta 0:00:02\n",
      "     ------------------------                 2.1/3.5 MB 1.4 MB/s eta 0:00:01\n",
      "     -------------------------                2.2/3.5 MB 1.4 MB/s eta 0:00:01\n",
      "     --------------------------               2.3/3.5 MB 1.4 MB/s eta 0:00:01\n",
      "     ---------------------------              2.4/3.5 MB 1.4 MB/s eta 0:00:01\n",
      "     ---------------------------              2.4/3.5 MB 1.4 MB/s eta 0:00:01\n",
      "     ----------------------------             2.5/3.5 MB 1.4 MB/s eta 0:00:01\n",
      "     -----------------------------            2.5/3.5 MB 1.4 MB/s eta 0:00:01\n",
      "     ------------------------------           2.7/3.5 MB 1.4 MB/s eta 0:00:01\n",
      "     -------------------------------          2.8/3.5 MB 1.4 MB/s eta 0:00:01\n",
      "     --------------------------------         2.8/3.5 MB 1.4 MB/s eta 0:00:01\n",
      "     ---------------------------------        2.9/3.5 MB 1.4 MB/s eta 0:00:01\n",
      "     ----------------------------------       3.0/3.5 MB 1.5 MB/s eta 0:00:01\n",
      "     -----------------------------------      3.1/3.5 MB 1.5 MB/s eta 0:00:01\n",
      "     ------------------------------------     3.2/3.5 MB 1.5 MB/s eta 0:00:01\n",
      "     ------------------------------------     3.2/3.5 MB 1.5 MB/s eta 0:00:01\n",
      "     --------------------------------------   3.3/3.5 MB 1.5 MB/s eta 0:00:01\n",
      "     ---------------------------------------  3.4/3.5 MB 1.5 MB/s eta 0:00:01\n",
      "     ---------------------------------------  3.5/3.5 MB 1.5 MB/s eta 0:00:01\n",
      "     ---------------------------------------- 3.5/3.5 MB 1.5 MB/s eta 0:00:00\n",
      "Collecting tqdm>=4.27 (from transformers)\n",
      "  Downloading tqdm-4.65.0-py3-none-any.whl (77 kB)\n",
      "                                              0.0/77.1 kB ? eta -:--:--\n",
      "     -------------------------------------    71.7/77.1 kB 2.0 MB/s eta 0:00:01\n",
      "     -------------------------------------- 77.1/77.1 kB 857.1 kB/s eta 0:00:00\n",
      "Collecting fsspec (from huggingface-hub<1.0,>=0.14.1->transformers)\n",
      "  Downloading fsspec-2023.5.0-py3-none-any.whl (160 kB)\n",
      "                                              0.0/160.1 kB ? eta -:--:--\n",
      "     --                                       10.2/160.1 kB ? eta -:--:--\n",
      "     ---------                             41.0/160.1 kB 487.6 kB/s eta 0:00:01\n",
      "     --------------                        61.4/160.1 kB 469.7 kB/s eta 0:00:01\n",
      "     ---------------------                 92.2/160.1 kB 476.3 kB/s eta 0:00:01\n",
      "     ------------------------------------ 160.1/160.1 kB 684.2 kB/s eta 0:00:00\n",
      "Collecting typing-extensions>=3.7.4.3 (from huggingface-hub<1.0,>=0.14.1->transformers)\n",
      "  Downloading typing_extensions-4.5.0-py3-none-any.whl (27 kB)\n",
      "Requirement already satisfied: pyparsing!=3.0.5,>=2.0.2 in c:\\users\\akil\\appdata\\roaming\\python\\python39\\site-packages (from packaging>=20.0->transformers) (3.0.9)\n",
      "Requirement already satisfied: colorama in c:\\users\\akil\\appdata\\roaming\\python\\python39\\site-packages (from tqdm>=4.27->transformers) (0.4.4)\n",
      "Requirement already satisfied: charset-normalizer<3,>=2 in c:\\users\\akil\\appdata\\roaming\\python\\python39\\site-packages (from requests->transformers) (2.1.1)\n",
      "Requirement already satisfied: idna<4,>=2.5 in c:\\users\\akil\\appdata\\roaming\\python\\python39\\site-packages (from requests->transformers) (3.4)\n",
      "Requirement already satisfied: urllib3<1.27,>=1.21.1 in c:\\users\\akil\\appdata\\roaming\\python\\python39\\site-packages (from requests->transformers) (1.26.13)\n",
      "Requirement already satisfied: certifi>=2017.4.17 in c:\\users\\akil\\appdata\\roaming\\python\\python39\\site-packages (from requests->transformers) (2022.12.7)\n",
      "Installing collected packages: tokenizers, typing-extensions, tqdm, regex, pyyaml, fsspec, huggingface-hub, transformers\n",
      "Successfully installed fsspec-2023.5.0 huggingface-hub-0.14.1 pyyaml-6.0 regex-2023.5.5 tokenizers-0.13.3 tqdm-4.65.0 transformers-4.29.2 typing-extensions-4.5.0\n"
     ]
    }
   ],
   "source": [
    "import pandas as pd\n",
    "import numpy as np\n",
    "import seaborn as sns"
   ]
  },
  {
   "cell_type": "code",
   "execution_count": 4,
   "id": "7cc3f7a5",
   "metadata": {
    "execution": {
     "iopub.execute_input": "2023-05-15T07:02:56.547748Z",
     "iopub.status.busy": "2023-05-15T07:02:56.547348Z",
     "iopub.status.idle": "2023-05-15T07:02:56.613837Z",
     "shell.execute_reply": "2023-05-15T07:02:56.612619Z"
    },
    "papermill": {
     "duration": 0.076185,
     "end_time": "2023-05-15T07:02:56.617240",
     "exception": false,
     "start_time": "2023-05-15T07:02:56.541055",
     "status": "completed"
    },
    "tags": []
   },
   "outputs": [
    {
     "data": {
      "text/html": [
       "<div>\n",
       "<style scoped>\n",
       "    .dataframe tbody tr th:only-of-type {\n",
       "        vertical-align: middle;\n",
       "    }\n",
       "\n",
       "    .dataframe tbody tr th {\n",
       "        vertical-align: top;\n",
       "    }\n",
       "\n",
       "    .dataframe thead th {\n",
       "        text-align: right;\n",
       "    }\n",
       "</style>\n",
       "<table border=\"1\" class=\"dataframe\">\n",
       "  <thead>\n",
       "    <tr style=\"text-align: right;\">\n",
       "      <th></th>\n",
       "      <th>v1</th>\n",
       "      <th>v2</th>\n",
       "      <th>Unnamed: 2</th>\n",
       "      <th>Unnamed: 3</th>\n",
       "      <th>Unnamed: 4</th>\n",
       "    </tr>\n",
       "  </thead>\n",
       "  <tbody>\n",
       "    <tr>\n",
       "      <th>0</th>\n",
       "      <td>ham</td>\n",
       "      <td>Go until jurong point, crazy.. Available only ...</td>\n",
       "      <td>NaN</td>\n",
       "      <td>NaN</td>\n",
       "      <td>NaN</td>\n",
       "    </tr>\n",
       "    <tr>\n",
       "      <th>1</th>\n",
       "      <td>ham</td>\n",
       "      <td>Ok lar... Joking wif u oni...</td>\n",
       "      <td>NaN</td>\n",
       "      <td>NaN</td>\n",
       "      <td>NaN</td>\n",
       "    </tr>\n",
       "    <tr>\n",
       "      <th>2</th>\n",
       "      <td>spam</td>\n",
       "      <td>Free entry in 2 a wkly comp to win FA Cup fina...</td>\n",
       "      <td>NaN</td>\n",
       "      <td>NaN</td>\n",
       "      <td>NaN</td>\n",
       "    </tr>\n",
       "    <tr>\n",
       "      <th>3</th>\n",
       "      <td>ham</td>\n",
       "      <td>U dun say so early hor... U c already then say...</td>\n",
       "      <td>NaN</td>\n",
       "      <td>NaN</td>\n",
       "      <td>NaN</td>\n",
       "    </tr>\n",
       "    <tr>\n",
       "      <th>4</th>\n",
       "      <td>ham</td>\n",
       "      <td>Nah I don't think he goes to usf, he lives aro...</td>\n",
       "      <td>NaN</td>\n",
       "      <td>NaN</td>\n",
       "      <td>NaN</td>\n",
       "    </tr>\n",
       "  </tbody>\n",
       "</table>\n",
       "</div>"
      ],
      "text/plain": [
       "     v1                                                 v2 Unnamed: 2  \\\n",
       "0   ham  Go until jurong point, crazy.. Available only ...        NaN   \n",
       "1   ham                      Ok lar... Joking wif u oni...        NaN   \n",
       "2  spam  Free entry in 2 a wkly comp to win FA Cup fina...        NaN   \n",
       "3   ham  U dun say so early hor... U c already then say...        NaN   \n",
       "4   ham  Nah I don't think he goes to usf, he lives aro...        NaN   \n",
       "\n",
       "  Unnamed: 3 Unnamed: 4  \n",
       "0        NaN        NaN  \n",
       "1        NaN        NaN  \n",
       "2        NaN        NaN  \n",
       "3        NaN        NaN  \n",
       "4        NaN        NaN  "
      ]
     },
     "execution_count": 4,
     "metadata": {},
     "output_type": "execute_result"
    }
   ],
   "source": [
    "import pandas as pd\n",
    "df= pd.read_csv('spam.csv', encoding='ISO-8859-1')\n",
    "                  \n",
    "df.head()"
   ]
  },
  {
   "cell_type": "code",
   "execution_count": 5,
   "id": "97c864bf",
   "metadata": {
    "execution": {
     "iopub.execute_input": "2023-05-15T07:02:56.629753Z",
     "iopub.status.busy": "2023-05-15T07:02:56.629099Z",
     "iopub.status.idle": "2023-05-15T07:02:56.646498Z",
     "shell.execute_reply": "2023-05-15T07:02:56.645086Z"
    },
    "papermill": {
     "duration": 0.026454,
     "end_time": "2023-05-15T07:02:56.648987",
     "exception": false,
     "start_time": "2023-05-15T07:02:56.622533",
     "status": "completed"
    },
    "tags": []
   },
   "outputs": [
    {
     "data": {
      "text/plain": [
       "Sorry, I'll call later                                                                                                                                                 30\n",
       "I cant pick the phone right now. Pls send a message                                                                                                                    12\n",
       "Ok...                                                                                                                                                                  10\n",
       "7 wonders in My WORLD 7th You 6th Ur style 5th Ur smile 4th Ur Personality 3rd Ur Nature 2nd Ur SMS and 1st \\Ur Lovely Friendship\\\"... good morning dear\"               4\n",
       "Say this slowly.? GOD,I LOVE YOU &amp; I NEED YOU,CLEAN MY HEART WITH YOUR BLOOD.Send this to Ten special people &amp; u c miracle tomorrow, do it,pls,pls do it...     4\n",
       "                                                                                                                                                                       ..\n",
       "I gotta collect da car at 6 lei.                                                                                                                                        1\n",
       "No. On the way home. So if not for the long dry spell the season would have been over                                                                                   1\n",
       "Urgent! Please call 09061743811 from landline. Your ABTA complimentary 4* Tenerife Holiday or å£5000 cash await collection SAE T&Cs Box 326 CW25WX 150ppm               1\n",
       "Dear 0776xxxxxxx U've been invited to XCHAT. This is our final attempt to contact u! Txt CHAT to 86688 150p/MsgrcvdHG/Suite342/2Lands/Row/W1J6HL LDN 18yrs              1\n",
       "Rofl. Its true to its name                                                                                                                                              1\n",
       "Name: v2, Length: 5169, dtype: int64"
      ]
     },
     "execution_count": 5,
     "metadata": {},
     "output_type": "execute_result"
    }
   ],
   "source": [
    "df['v2'].value_counts()"
   ]
  },
  {
   "cell_type": "code",
   "execution_count": 6,
   "id": "a9ba4179",
   "metadata": {
    "execution": {
     "iopub.execute_input": "2023-05-15T07:02:56.662732Z",
     "iopub.status.busy": "2023-05-15T07:02:56.661756Z",
     "iopub.status.idle": "2023-05-15T07:02:56.670692Z",
     "shell.execute_reply": "2023-05-15T07:02:56.669597Z"
    },
    "papermill": {
     "duration": 0.018166,
     "end_time": "2023-05-15T07:02:56.672893",
     "exception": false,
     "start_time": "2023-05-15T07:02:56.654727",
     "status": "completed"
    },
    "tags": []
   },
   "outputs": [
    {
     "data": {
      "text/plain": [
       "ham     4825\n",
       "spam     747\n",
       "Name: v1, dtype: int64"
      ]
     },
     "execution_count": 6,
     "metadata": {},
     "output_type": "execute_result"
    }
   ],
   "source": [
    "df['v1'].value_counts()"
   ]
  },
  {
   "cell_type": "code",
   "execution_count": 7,
   "id": "63e64297",
   "metadata": {
    "execution": {
     "iopub.execute_input": "2023-05-15T07:02:56.686442Z",
     "iopub.status.busy": "2023-05-15T07:02:56.685532Z",
     "iopub.status.idle": "2023-05-15T07:02:56.689774Z",
     "shell.execute_reply": "2023-05-15T07:02:56.689065Z"
    },
    "papermill": {
     "duration": 0.013076,
     "end_time": "2023-05-15T07:02:56.691730",
     "exception": false,
     "start_time": "2023-05-15T07:02:56.678654",
     "status": "completed"
    },
    "tags": []
   },
   "outputs": [],
   "source": [
    "#separate x and y\n",
    "x=df.v2.values\n",
    "y=df.v1.values"
   ]
  },
  {
   "cell_type": "code",
   "execution_count": 8,
   "id": "96ded20a",
   "metadata": {
    "execution": {
     "iopub.execute_input": "2023-05-15T07:02:56.705243Z",
     "iopub.status.busy": "2023-05-15T07:02:56.704609Z",
     "iopub.status.idle": "2023-05-15T07:02:56.991023Z",
     "shell.execute_reply": "2023-05-15T07:02:56.989788Z"
    },
    "papermill": {
     "duration": 0.296118,
     "end_time": "2023-05-15T07:02:56.993651",
     "exception": false,
     "start_time": "2023-05-15T07:02:56.697533",
     "status": "completed"
    },
    "tags": []
   },
   "outputs": [],
   "source": [
    "# split train and test\n",
    "from sklearn.model_selection import train_test_split\n",
    "xtrain, xtest, ytrain, ytest = train_test_split(x,y, test_size=.25)"
   ]
  },
  {
   "cell_type": "code",
   "execution_count": 9,
   "id": "83c145c3",
   "metadata": {
    "execution": {
     "iopub.execute_input": "2023-05-15T07:02:57.006989Z",
     "iopub.status.busy": "2023-05-15T07:02:57.006579Z",
     "iopub.status.idle": "2023-05-15T07:02:57.107734Z",
     "shell.execute_reply": "2023-05-15T07:02:57.106285Z"
    },
    "papermill": {
     "duration": 0.110466,
     "end_time": "2023-05-15T07:02:57.110127",
     "exception": false,
     "start_time": "2023-05-15T07:02:56.999661",
     "status": "completed"
    },
    "tags": []
   },
   "outputs": [],
   "source": [
    "# Data preprocessing\n",
    "from sklearn.feature_extraction.text import CountVectorizer\n",
    "cv = CountVectorizer()\n",
    "X_train= cv.fit_transform(xtrain)"
   ]
  },
  {
   "cell_type": "code",
   "execution_count": 10,
   "id": "e2286556",
   "metadata": {
    "execution": {
     "iopub.execute_input": "2023-05-15T07:02:57.123099Z",
     "iopub.status.busy": "2023-05-15T07:02:57.122715Z",
     "iopub.status.idle": "2023-05-15T07:02:57.231346Z",
     "shell.execute_reply": "2023-05-15T07:02:57.230254Z"
    },
    "papermill": {
     "duration": 0.117859,
     "end_time": "2023-05-15T07:02:57.233770",
     "exception": false,
     "start_time": "2023-05-15T07:02:57.115911",
     "status": "completed"
    },
    "tags": []
   },
   "outputs": [
    {
     "data": {
      "text/plain": [
       "array([[0, 0, 0, ..., 0, 0, 0],\n",
       "       [0, 0, 0, ..., 0, 0, 0],\n",
       "       [0, 0, 0, ..., 0, 0, 0],\n",
       "       ...,\n",
       "       [0, 0, 0, ..., 0, 0, 0],\n",
       "       [0, 0, 0, ..., 0, 0, 0],\n",
       "       [0, 0, 0, ..., 0, 0, 0]], dtype=int64)"
      ]
     },
     "execution_count": 10,
     "metadata": {},
     "output_type": "execute_result"
    }
   ],
   "source": [
    "X_train.toarray()"
   ]
  },
  {
   "cell_type": "code",
   "execution_count": 11,
   "id": "1c47f047",
   "metadata": {
    "execution": {
     "iopub.execute_input": "2023-05-15T07:02:57.247096Z",
     "iopub.status.busy": "2023-05-15T07:02:57.246731Z",
     "iopub.status.idle": "2023-05-15T07:02:57.261404Z",
     "shell.execute_reply": "2023-05-15T07:02:57.260113Z"
    },
    "papermill": {
     "duration": 0.024305,
     "end_time": "2023-05-15T07:02:57.263901",
     "exception": false,
     "start_time": "2023-05-15T07:02:57.239596",
     "status": "completed"
    },
    "tags": []
   },
   "outputs": [],
   "source": [
    "# ML ALgorithm\n",
    "from sklearn.naive_bayes import MultinomialNB"
   ]
  },
  {
   "cell_type": "code",
   "execution_count": 12,
   "id": "c3ced714",
   "metadata": {
    "execution": {
     "iopub.execute_input": "2023-05-15T07:02:57.277012Z",
     "iopub.status.busy": "2023-05-15T07:02:57.276645Z",
     "iopub.status.idle": "2023-05-15T07:02:57.304122Z",
     "shell.execute_reply": "2023-05-15T07:02:57.302873Z"
    },
    "papermill": {
     "duration": 0.036732,
     "end_time": "2023-05-15T07:02:57.306426",
     "exception": false,
     "start_time": "2023-05-15T07:02:57.269694",
     "status": "completed"
    },
    "tags": []
   },
   "outputs": [
    {
     "data": {
      "text/html": [
       "<style>#sk-container-id-1 {color: black;background-color: white;}#sk-container-id-1 pre{padding: 0;}#sk-container-id-1 div.sk-toggleable {background-color: white;}#sk-container-id-1 label.sk-toggleable__label {cursor: pointer;display: block;width: 100%;margin-bottom: 0;padding: 0.3em;box-sizing: border-box;text-align: center;}#sk-container-id-1 label.sk-toggleable__label-arrow:before {content: \"▸\";float: left;margin-right: 0.25em;color: #696969;}#sk-container-id-1 label.sk-toggleable__label-arrow:hover:before {color: black;}#sk-container-id-1 div.sk-estimator:hover label.sk-toggleable__label-arrow:before {color: black;}#sk-container-id-1 div.sk-toggleable__content {max-height: 0;max-width: 0;overflow: hidden;text-align: left;background-color: #f0f8ff;}#sk-container-id-1 div.sk-toggleable__content pre {margin: 0.2em;color: black;border-radius: 0.25em;background-color: #f0f8ff;}#sk-container-id-1 input.sk-toggleable__control:checked~div.sk-toggleable__content {max-height: 200px;max-width: 100%;overflow: auto;}#sk-container-id-1 input.sk-toggleable__control:checked~label.sk-toggleable__label-arrow:before {content: \"▾\";}#sk-container-id-1 div.sk-estimator input.sk-toggleable__control:checked~label.sk-toggleable__label {background-color: #d4ebff;}#sk-container-id-1 div.sk-label input.sk-toggleable__control:checked~label.sk-toggleable__label {background-color: #d4ebff;}#sk-container-id-1 input.sk-hidden--visually {border: 0;clip: rect(1px 1px 1px 1px);clip: rect(1px, 1px, 1px, 1px);height: 1px;margin: -1px;overflow: hidden;padding: 0;position: absolute;width: 1px;}#sk-container-id-1 div.sk-estimator {font-family: monospace;background-color: #f0f8ff;border: 1px dotted black;border-radius: 0.25em;box-sizing: border-box;margin-bottom: 0.5em;}#sk-container-id-1 div.sk-estimator:hover {background-color: #d4ebff;}#sk-container-id-1 div.sk-parallel-item::after {content: \"\";width: 100%;border-bottom: 1px solid gray;flex-grow: 1;}#sk-container-id-1 div.sk-label:hover label.sk-toggleable__label {background-color: #d4ebff;}#sk-container-id-1 div.sk-serial::before {content: \"\";position: absolute;border-left: 1px solid gray;box-sizing: border-box;top: 0;bottom: 0;left: 50%;z-index: 0;}#sk-container-id-1 div.sk-serial {display: flex;flex-direction: column;align-items: center;background-color: white;padding-right: 0.2em;padding-left: 0.2em;position: relative;}#sk-container-id-1 div.sk-item {position: relative;z-index: 1;}#sk-container-id-1 div.sk-parallel {display: flex;align-items: stretch;justify-content: center;background-color: white;position: relative;}#sk-container-id-1 div.sk-item::before, #sk-container-id-1 div.sk-parallel-item::before {content: \"\";position: absolute;border-left: 1px solid gray;box-sizing: border-box;top: 0;bottom: 0;left: 50%;z-index: -1;}#sk-container-id-1 div.sk-parallel-item {display: flex;flex-direction: column;z-index: 1;position: relative;background-color: white;}#sk-container-id-1 div.sk-parallel-item:first-child::after {align-self: flex-end;width: 50%;}#sk-container-id-1 div.sk-parallel-item:last-child::after {align-self: flex-start;width: 50%;}#sk-container-id-1 div.sk-parallel-item:only-child::after {width: 0;}#sk-container-id-1 div.sk-dashed-wrapped {border: 1px dashed gray;margin: 0 0.4em 0.5em 0.4em;box-sizing: border-box;padding-bottom: 0.4em;background-color: white;}#sk-container-id-1 div.sk-label label {font-family: monospace;font-weight: bold;display: inline-block;line-height: 1.2em;}#sk-container-id-1 div.sk-label-container {text-align: center;}#sk-container-id-1 div.sk-container {/* jupyter's `normalize.less` sets `[hidden] { display: none; }` but bootstrap.min.css set `[hidden] { display: none !important; }` so we also need the `!important` here to be able to override the default hidden behavior on the sphinx rendered scikit-learn.org. See: https://github.com/scikit-learn/scikit-learn/issues/21755 */display: inline-block !important;position: relative;}#sk-container-id-1 div.sk-text-repr-fallback {display: none;}</style><div id=\"sk-container-id-1\" class=\"sk-top-container\"><div class=\"sk-text-repr-fallback\"><pre>MultinomialNB()</pre><b>In a Jupyter environment, please rerun this cell to show the HTML representation or trust the notebook. <br />On GitHub, the HTML representation is unable to render, please try loading this page with nbviewer.org.</b></div><div class=\"sk-container\" hidden><div class=\"sk-item\"><div class=\"sk-estimator sk-toggleable\"><input class=\"sk-toggleable__control sk-hidden--visually\" id=\"sk-estimator-id-1\" type=\"checkbox\" checked><label for=\"sk-estimator-id-1\" class=\"sk-toggleable__label sk-toggleable__label-arrow\">MultinomialNB</label><div class=\"sk-toggleable__content\"><pre>MultinomialNB()</pre></div></div></div></div></div>"
      ],
      "text/plain": [
       "MultinomialNB()"
      ]
     },
     "execution_count": 12,
     "metadata": {},
     "output_type": "execute_result"
    }
   ],
   "source": [
    "model = MultinomialNB()\n",
    "model.fit(X_train,ytrain)"
   ]
  },
  {
   "cell_type": "code",
   "execution_count": 13,
   "id": "692b9729",
   "metadata": {
    "execution": {
     "iopub.execute_input": "2023-05-15T07:02:57.320013Z",
     "iopub.status.busy": "2023-05-15T07:02:57.319643Z",
     "iopub.status.idle": "2023-05-15T07:02:57.384550Z",
     "shell.execute_reply": "2023-05-15T07:02:57.383419Z"
    },
    "papermill": {
     "duration": 0.07459,
     "end_time": "2023-05-15T07:02:57.387117",
     "exception": false,
     "start_time": "2023-05-15T07:02:57.312527",
     "status": "completed"
    },
    "tags": []
   },
   "outputs": [
    {
     "data": {
      "text/plain": [
       "array([[0, 0, 0, ..., 0, 0, 0],\n",
       "       [0, 0, 0, ..., 0, 0, 0],\n",
       "       [0, 0, 0, ..., 0, 0, 0],\n",
       "       ...,\n",
       "       [0, 0, 0, ..., 0, 0, 0],\n",
       "       [0, 0, 0, ..., 0, 0, 0],\n",
       "       [0, 0, 0, ..., 0, 0, 0]], dtype=int64)"
      ]
     },
     "execution_count": 13,
     "metadata": {},
     "output_type": "execute_result"
    }
   ],
   "source": [
    "x_test=cv.transform(xtest)\n",
    "x_test.toarray()"
   ]
  },
  {
   "cell_type": "code",
   "execution_count": 14,
   "id": "900d5bd1",
   "metadata": {
    "execution": {
     "iopub.execute_input": "2023-05-15T07:02:57.401515Z",
     "iopub.status.busy": "2023-05-15T07:02:57.401110Z",
     "iopub.status.idle": "2023-05-15T07:02:57.412883Z",
     "shell.execute_reply": "2023-05-15T07:02:57.411644Z"
    },
    "papermill": {
     "duration": 0.021148,
     "end_time": "2023-05-15T07:02:57.415007",
     "exception": false,
     "start_time": "2023-05-15T07:02:57.393859",
     "status": "completed"
    },
    "tags": []
   },
   "outputs": [
    {
     "data": {
      "text/plain": [
       "0.9885139985642498"
      ]
     },
     "execution_count": 14,
     "metadata": {},
     "output_type": "execute_result"
    }
   ],
   "source": [
    "model.score(x_test, ytest)"
   ]
  },
  {
   "cell_type": "code",
   "execution_count": 15,
   "id": "e8cd2a90",
   "metadata": {
    "execution": {
     "iopub.execute_input": "2023-05-15T07:02:57.428975Z",
     "iopub.status.busy": "2023-05-15T07:02:57.428612Z",
     "iopub.status.idle": "2023-05-15T07:02:57.433340Z",
     "shell.execute_reply": "2023-05-15T07:02:57.432250Z"
    },
    "papermill": {
     "duration": 0.013969,
     "end_time": "2023-05-15T07:02:57.435276",
     "exception": false,
     "start_time": "2023-05-15T07:02:57.421307",
     "status": "completed"
    },
    "tags": []
   },
   "outputs": [],
   "source": [
    "email=['get an iphone 14 for free','use this product to be fair within 7 days, otherwise money return', 'give your account number of bank ,to get 1000000 dollar free','i am looking for english language tutorials']"
   ]
  },
  {
   "cell_type": "code",
   "execution_count": 16,
   "id": "35ea9f6e",
   "metadata": {
    "execution": {
     "iopub.execute_input": "2023-05-15T07:02:57.449009Z",
     "iopub.status.busy": "2023-05-15T07:02:57.448624Z",
     "iopub.status.idle": "2023-05-15T07:02:57.453704Z",
     "shell.execute_reply": "2023-05-15T07:02:57.452589Z"
    },
    "papermill": {
     "duration": 0.01421,
     "end_time": "2023-05-15T07:02:57.455656",
     "exception": false,
     "start_time": "2023-05-15T07:02:57.441446",
     "status": "completed"
    },
    "tags": []
   },
   "outputs": [],
   "source": [
    "cv_email= cv.transform(email)"
   ]
  },
  {
   "cell_type": "code",
   "execution_count": 18,
   "id": "7597c036",
   "metadata": {
    "execution": {
     "iopub.execute_input": "2023-05-15T07:02:57.470009Z",
     "iopub.status.busy": "2023-05-15T07:02:57.469428Z",
     "iopub.status.idle": "2023-05-15T07:02:57.476444Z",
     "shell.execute_reply": "2023-05-15T07:02:57.475306Z"
    },
    "papermill": {
     "duration": 0.016663,
     "end_time": "2023-05-15T07:02:57.478644",
     "exception": false,
     "start_time": "2023-05-15T07:02:57.461981",
     "status": "completed"
    },
    "tags": []
   },
   "outputs": [
    {
     "data": {
      "text/plain": [
       "array(['spam', 'ham', 'ham', 'ham'], dtype='<U4')"
      ]
     },
     "execution_count": 18,
     "metadata": {},
     "output_type": "execute_result"
    }
   ],
   "source": [
    "model.predict(cv_email)"
   ]
  }
 ],
 "metadata": {
  "kernelspec": {
   "display_name": "Python 3",
   "language": "python",
   "name": "python3"
  },
  "language_info": {
   "codemirror_mode": {
    "name": "ipython",
    "version": 3
   },
   "file_extension": ".py",
   "mimetype": "text/x-python",
   "name": "python",
   "nbconvert_exporter": "python",
   "pygments_lexer": "ipython3",
   "version": "3.9.6"
  },
  "papermill": {
   "default_parameters": {},
   "duration": 25.799552,
   "end_time": "2023-05-15T07:02:58.442014",
   "environment_variables": {},
   "exception": null,
   "input_path": "__notebook__.ipynb",
   "output_path": "__notebook__.ipynb",
   "parameters": {},
   "start_time": "2023-05-15T07:02:32.642462",
   "version": "2.4.0"
  }
 },
 "nbformat": 4,
 "nbformat_minor": 5
}
